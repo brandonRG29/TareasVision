{
 "cells": [
  {
   "cell_type": "code",
   "execution_count": 1,
   "metadata": {},
   "outputs": [
    {
     "name": "stdout",
     "output_type": "stream",
     "text": [
      "Error abriendo el video\n"
     ]
    }
   ],
   "source": [
    "import matplotlib.pyplot as plt\n",
    "import matplotlib.image as mpimg\n",
    "import numpy as np\n",
    "import cv2\n",
    "%matplotlib inline\n",
    " \n",
    "cap = cv2.VideoCapture('solidWhiteRigth.mp4')\n",
    " \n",
    "\n",
    "if (cap.isOpened()== False): \n",
    "  print(\"Error abriendo el video\")\n",
    " \n",
    "while(cap.isOpened()):\n",
    "  # Leer frame por frame\n",
    "  ret, frame = cap.read()\n",
    "  if ret == True:\n",
    "    gray = cv2.cvtColor(frame,cv2.COLOR_RGB2GRAY)\n",
    "\n",
    "    kernel_size = 9;\n",
    "    blur_gray = cv2.GaussianBlur(gray,(kernel_size, kernel_size),0)\n",
    "\n",
    "    low_threshold = 100\n",
    "    high_threshold = 250\n",
    "    edges_frame = cv2.Canny(blur_gray, low_threshold, high_threshold)\n",
    "    mask = np.zeros_like(edges_frame)   \n",
    "    ignore_mask_color = 255   \n",
    "\n",
    "    frameShape = frame.shape\n",
    "    v = np.array([[(0,frameShape[0]),(0, frameShape[0]*9/16), (frameShape[1], frameShape[0]*9/16), (frameShape[1],frameShape[0])]], dtype=np.int32)\n",
    "    cv2.fillPoly(mask, v, ignore_mask_color)\n",
    "    edges_frame = cv2.bitwise_and(edges_frame, mask)\n",
    "\n",
    "    rho = 4 \n",
    "    theta = np.pi/180 \n",
    "    threshold = 100    \n",
    "    min_line_length = 80 \n",
    "    max_line_gap = 10    \n",
    "\n",
    "    frame_lines = cv2.HoughLinesP(edges_frame, rho, theta, threshold, np.array([]), min_line_length, max_line_gap)\n",
    "\n",
    "    resultado = np.copy(frame)\n",
    "\n",
    "    for line in frame_lines:\n",
    "        for x1,y1,x2,y2 in line:\n",
    "            cv2.line(resultado,(x1,y1),(x2,y2),(255,255,0),3)  \n",
    "    \n",
    "    # muestra la ventana con el resultado\n",
    "    cv2.imshow('LINEAS',resultado)\n",
    " \n",
    "    # s para salir\n",
    "    if cv2.waitKey(25) & 0xFF == ord('s'):\n",
    "      break\n",
    " \n",
    "  # rompe el ciclo\n",
    "  else: \n",
    "    break\n",
    " \n",
    "\n",
    "cap.release()\n",
    "\n",
    "   \n",
    "# cierra la ventana del video\n",
    "cv2.destroyAllWindows()"
   ]
  },
  {
   "cell_type": "code",
   "execution_count": null,
   "metadata": {},
   "outputs": [],
   "source": []
  },
  {
   "cell_type": "code",
   "execution_count": null,
   "metadata": {},
   "outputs": [],
   "source": []
  },
  {
   "cell_type": "code",
   "execution_count": null,
   "metadata": {},
   "outputs": [],
   "source": []
  },
  {
   "cell_type": "code",
   "execution_count": null,
   "metadata": {},
   "outputs": [],
   "source": []
  }
 ],
 "metadata": {
  "kernelspec": {
   "display_name": "Python 3",
   "language": "python",
   "name": "python3"
  },
  "language_info": {
   "codemirror_mode": {
    "name": "ipython",
    "version": 3
   },
   "file_extension": ".py",
   "mimetype": "text/x-python",
   "name": "python",
   "nbconvert_exporter": "python",
   "pygments_lexer": "ipython3",
   "version": "3.5.2"
  },
  "widgets": {
   "state": {},
   "version": "1.1.2"
  }
 },
 "nbformat": 4,
 "nbformat_minor": 2
}
